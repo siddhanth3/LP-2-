{
 "cells": [
  {
   "cell_type": "code",
   "execution_count": 2,
   "id": "a65adc90-1094-42b2-80df-cb28cd962160",
   "metadata": {},
   "outputs": [
    {
     "name": "stdout",
     "output_type": "stream",
     "text": [
      "Enter the number of vertices:  5\n",
      "Enter a vertex:  a\n",
      "Enter its neighbors (separated by spaces):  b c e\n",
      "Enter a vertex:  b\n",
      "Enter its neighbors (separated by spaces):  a d\n",
      "Enter a vertex:  c\n",
      "Enter its neighbors (separated by spaces):  a d\n",
      "Enter a vertex:  d\n",
      "Enter its neighbors (separated by spaces):  a b c\n",
      "Enter a vertex:  e\n",
      "Enter its neighbors (separated by spaces):  a d\n",
      "Enter the starting vertex:  a\n",
      "Enter the goal vertex:  c\n"
     ]
    },
    {
     "name": "stdout",
     "output_type": "stream",
     "text": [
      "BFS traversal:\n",
      "a\n",
      "e\n",
      "c\n",
      "b\n",
      "d\n",
      "BFS path to goal:\n",
      "Path to goal: ['a', 'c']\n"
     ]
    },
    {
     "data": {
      "text/plain": [
       "['a', 'c']"
      ]
     },
     "execution_count": 2,
     "metadata": {},
     "output_type": "execute_result"
    }
   ],
   "source": [
    "from collections import defaultdict\n",
    "\n",
    "\n",
    "# BFS implementation\n",
    "def bfs(graph, start):\n",
    "    visited = set()\n",
    "    queue = [start]\n",
    "   \n",
    "    while queue:\n",
    "        vertex = queue.pop(0)\n",
    "        if vertex not in visited:\n",
    "            print(vertex)  # or do whatever you want with the vertex\n",
    "            visited.add(vertex)\n",
    "            queue.extend(graph[vertex] - visited)\n",
    "\n",
    "\n",
    "# Function to find path using BFS\n",
    "def bfs_path(graph, start, goal):\n",
    "    visited = set()\n",
    "    queue = [(start, [start])]  # Queue holds tuples of (vertex, path)\n",
    "\n",
    "    while queue:\n",
    "        vertex, path = queue.pop(0)\n",
    "        if vertex not in visited:\n",
    "            if vertex == goal:\n",
    "                print(\"Path to goal:\", path)\n",
    "                return path  # Return the path to the goal\n",
    "            visited.add(vertex)\n",
    "            for neighbor in graph[vertex] - visited:\n",
    "                queue.append((neighbor, path + [neighbor]))\n",
    "\n",
    "    print(\"Goal not found\")\n",
    "    return None  # Return None if goal is not found\n",
    "\n",
    "# Taking dynamic input for the graph\n",
    "graph = defaultdict(set)\n",
    "\n",
    "num_vertices = int(input(\"Enter the number of vertices: \"))\n",
    "\n",
    "for _ in range(num_vertices):\n",
    "    vertex = input(\"Enter a vertex: \")\n",
    "    neighbors = input(\"Enter its neighbors (separated by spaces): \").split()\n",
    "    graph[vertex].update(neighbors)\n",
    "\n",
    "start_vertex = input(\"Enter the starting vertex: \")\n",
    "goal_vertex = input(\"Enter the goal vertex: \")\n",
    "\n",
    "\n",
    "print(\"BFS traversal:\")\n",
    "bfs(graph, start_vertex)\n",
    "\n",
    "# Find and display path to the goal using DFS and BFS\n",
    "\n",
    "print(\"BFS path to goal:\")\n",
    "bfs_path(graph, start_vertex, goal_vertex)"
   ]
  },
  {
   "cell_type": "code",
   "execution_count": null,
   "id": "d2330ef5-4576-4834-ada1-1ab646cd2cc0",
   "metadata": {},
   "outputs": [
    {
     "name": "stdout",
     "output_type": "stream",
     "text": [
      "Enter the number of vertices:  5\n",
      "Enter a vertex:  a\n",
      "Enter its neighbors (separated by spaces):  b c e\n",
      "Enter a vertex:  b\n",
      "Enter its neighbors (separated by spaces):  a d\n",
      "Enter a vertex:  c\n",
      "Enter its neighbors (separated by spaces):  a d\n",
      "Enter a vertex:  d\n",
      "Enter its neighbors (separated by spaces):  a b c\n",
      "Enter a vertex:  e\n",
      "Enter its neighbors (separated by spaces):  a d\n",
      "Enter the starting vertex:  a\n",
      "Enter the goal vertex:  c\n"
     ]
    },
    {
     "name": "stdout",
     "output_type": "stream",
     "text": [
      "\n",
      "Recursive BFS traversal (with path to goal):\n",
      "Path to goal c: ['a', 'c']\n"
     ]
    },
    {
     "data": {
      "text/plain": [
       "['a', 'c']"
      ]
     },
     "execution_count": 3,
     "metadata": {},
     "output_type": "execute_result"
    }
   ],
   "source": [
    "from collections import defaultdict, deque\n",
    "\n",
    "def bfs_recursive_path(graph, queue, visited, goal):\n",
    "    if not queue:\n",
    "        print(\"Goal not found\")\n",
    "        return None\n",
    "\n",
    "    vertex, path = queue.popleft()\n",
    "    if vertex == goal:\n",
    "        print(f\"Path to goal {goal}: {path}\")\n",
    "        return path\n",
    "\n",
    "    visited.add(vertex)\n",
    "\n",
    "    for neighbor in graph[vertex]:\n",
    "        if neighbor not in visited and all(neighbor != n[0] for n in queue):\n",
    "            queue.append((neighbor, path + [neighbor]))\n",
    "\n",
    "    return bfs_recursive_path(graph, queue, visited, goal)\n",
    "\n",
    "# Undirected graph input\n",
    "graph = defaultdict(set)\n",
    "\n",
    "num_vertices = int(input(\"Enter the number of vertices: \"))\n",
    "\n",
    "for _ in range(num_vertices):\n",
    "    vertex = input(\"Enter a vertex: \")\n",
    "    neighbors = input(\"Enter its neighbors (separated by spaces): \").split()\n",
    "    graph[vertex].update(neighbors)\n",
    "    for neighbor in neighbors:\n",
    "        graph[neighbor].add(vertex)  # Ensure undirected connection\n",
    "\n",
    "start_vertex = input(\"Enter the starting vertex: \")\n",
    "goal_vertex = input(\"Enter the goal vertex: \")\n",
    "\n",
    "print(\"\\nRecursive BFS traversal (with path to goal):\")\n",
    "visited = set()\n",
    "queue = deque([(start_vertex, [start_vertex])])\n",
    "bfs_recursive_path(graph, queue, visited, goal_vertex)\n"
   ]
  },
  {
   "cell_type": "code",
   "execution_count": null,
   "id": "4c4c7428-b9c2-4c7e-90f2-d4a035b92ea6",
   "metadata": {},
   "outputs": [],
   "source": []
  }
 ],
 "metadata": {
  "kernelspec": {
   "display_name": "Python 3 (ipykernel)",
   "language": "python",
   "name": "python3"
  },
  "language_info": {
   "codemirror_mode": {
    "name": "ipython",
    "version": 3
   },
   "file_extension": ".py",
   "mimetype": "text/x-python",
   "name": "python",
   "nbconvert_exporter": "python",
   "pygments_lexer": "ipython3",
   "version": "3.12.7"
  }
 },
 "nbformat": 4,
 "nbformat_minor": 5
}
